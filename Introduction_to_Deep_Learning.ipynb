{
  "nbformat": 4,
  "nbformat_minor": 0,
  "metadata": {
    "colab": {
      "provenance": [],
      "authorship_tag": "ABX9TyPTgTq/BNIRdDcCkJvn/nbs",
      "include_colab_link": true
    },
    "kernelspec": {
      "name": "python3",
      "display_name": "Python 3"
    },
    "language_info": {
      "name": "python"
    }
  },
  "cells": [
    {
      "cell_type": "markdown",
      "metadata": {
        "id": "view-in-github",
        "colab_type": "text"
      },
      "source": [
        "<a href=\"https://colab.research.google.com/github/yanil-03/Deep-Learning/blob/main/Introduction_to_Deep_Learning.ipynb\" target=\"_parent\"><img src=\"https://colab.research.google.com/assets/colab-badge.svg\" alt=\"Open In Colab\"/></a>"
      ]
    },
    {
      "cell_type": "code",
      "execution_count": 1,
      "metadata": {
        "id": "1COcjKMFSMKY"
      },
      "outputs": [],
      "source": [
        "# Introduction to Deep Learning\n",
        "# (1). when complexity is high --- > use DL\n",
        "# (2). In ML , we can decide what tpye of dtaa we are using , what will be the output ,\n",
        "# what is the process but in Deep Learning , we can have only input and output data it is using\n",
        "\n"
      ]
    },
    {
      "cell_type": "code",
      "source": [
        "# Workflow of ML\n",
        "\n",
        "# Workflow of Deep Learning --- >\n",
        "# Data Ingestion --- > Data Cleaning and Preprocessing --- >Model Training ---> Model Prediction --->\n",
        "# Performance Evaluation"
      ],
      "metadata": {
        "id": "zyp-dmkaTAzQ"
      },
      "execution_count": 2,
      "outputs": []
    },
    {
      "cell_type": "code",
      "source": [
        "# Workflow of Deep Learning --- >\n",
        "# Data Ingestion --- > Data Cleaning and Preprocessing --- >\n",
        "# Model Sequential (\n",
        "#   input_layer(Neurons , Activation_function , input_dimension=data.shape) ,\n",
        "#   hidden_layer(Neurons , Activation_function) ,\n",
        "#   output_layer(Neurons, Activation_function)\n",
        "# )\n",
        "# Model.compile(loss_function, optimizer, meterics)--->\n",
        "# model.fit(x_train, x_test)  'Model Training process'--->\n",
        "# Model Predicition ---> calculate (loss, Accuracy)"
      ],
      "metadata": {
        "id": "yES-8Ir1TJeS"
      },
      "execution_count": 4,
      "outputs": []
    },
    {
      "cell_type": "code",
      "source": [
        "# Student_id      (.)x11 -------- >\n",
        "#                                   (.)x21--------->\n",
        "# cgpa            (.)x12 ------ >                    (.)×31 ----> Result (y)\n",
        "#                                   (.)x22--------->\n",
        "# resume_score    (.)x13 ------ > ##Hidden layer    ##output_layer"
      ],
      "metadata": {
        "id": "X0fU6ateT1Uu"
      },
      "execution_count": 5,
      "outputs": []
    },
    {
      "cell_type": "code",
      "source": [
        "# # Chain rule\n",
        "\n",
        "# dy/dx11 = dy/dx31 * dx31/dx21 * dx21/dx11\n",
        "\n",
        "# dy/dx12 = (dy/dx31 * dx31/dx21 * dx21/dx12) + (dy/dx31 * dx31/dx22 * dx22/dx12)\n",
        "\n",
        "# dy/dx13 = (dy/dx31 * dx31/dx21 * dx21/dx13) + (dy/dx31 * dx31/dx22 * dx22/dx13)"
      ],
      "metadata": {
        "id": "Bx8nLUnrU6KQ"
      },
      "execution_count": 6,
      "outputs": []
    },
    {
      "cell_type": "code",
      "source": [],
      "metadata": {
        "id": "MGy0j3qOVeax"
      },
      "execution_count": null,
      "outputs": []
    }
  ]
}